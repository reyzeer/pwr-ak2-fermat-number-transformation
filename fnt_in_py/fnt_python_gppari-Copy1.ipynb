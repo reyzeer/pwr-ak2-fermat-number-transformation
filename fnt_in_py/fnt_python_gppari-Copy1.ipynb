{
 "cells": [
  {
   "cell_type": "code",
   "execution_count": 1,
   "metadata": {
    "collapsed": true
   },
   "outputs": [],
   "source": [
    "import numpy as np\n",
    "from decimal import *\n",
    "import math"
   ]
  },
  {
   "cell_type": "code",
   "execution_count": 2,
   "metadata": {
    "collapsed": true
   },
   "outputs": [],
   "source": [
    "newcontext = getcontext();\n",
    "newcontext.prec = 2000\n",
    "newcontext.Emin = 0\n",
    "newcontext.Emax = 500\n",
    "setcontext(newcontext)"
   ]
  },
  {
   "cell_type": "code",
   "execution_count": 3,
   "metadata": {
    "collapsed": false
   },
   "outputs": [
    {
     "data": {
      "text/plain": [
       "Context(prec=2000, rounding=ROUND_HALF_EVEN, Emin=0, Emax=500, capitals=1, flags=[], traps=[DivisionByZero, InvalidOperation, Overflow])"
      ]
     },
     "execution_count": 3,
     "metadata": {},
     "output_type": "execute_result"
    }
   ],
   "source": [
    "getcontext()"
   ]
  },
  {
   "cell_type": "code",
   "execution_count": 4,
   "metadata": {
    "collapsed": true
   },
   "outputs": [],
   "source": [
    "def fermat_number(base):\n",
    "    return 2**2**base + 1"
   ]
  },
  {
   "cell_type": "code",
   "execution_count": 5,
   "metadata": {
    "collapsed": false
   },
   "outputs": [],
   "source": [
    "def fnt(datain, fermat_number_base, alpha):\n",
    "    fn = fermat_number(fermat_number_base)\n",
    "    N = len(datain)\n",
    "    dataout = np.empty([N])\n",
    "    for x in range(0, N):\n",
    "        summ = Decimal(0)\n",
    "        for k in range(0, N):\n",
    "            x_k = Decimal(datain[k])\n",
    "            kernel = Decimal(alpha)**(Decimal(x)*Decimal(k))\n",
    "            summ = summ + x_k * kernel\n",
    "        dataout[x] = summ % fn\n",
    "    return dataout"
   ]
  },
  {
   "cell_type": "code",
   "execution_count": 6,
   "metadata": {
    "collapsed": false
   },
   "outputs": [],
   "source": [
    "def fnt_revers(datain, fermat_number_base, alpha):\n",
    "    fn = fermat_number(fermat_number_base)\n",
    "    N = len(datain)\n",
    "    dataout = np.empty([N])\n",
    "    for x in range(0, N):\n",
    "        summ = Decimal(0)\n",
    "        for k in range(0, N):\n",
    "            x_k = Decimal(datain[k])\n",
    "            kernel = Decimal(alpha)**(-Decimal(x)*Decimal(k))\n",
    "            omega = x_k * kernel\n",
    "            #if (omega < 0):\n",
    "            #    omega = Decimal(0)\n",
    "            summ = summ + omega % fn\n",
    "            # print('%i. x_k: %i kernel: %.20i omega: %i summ: %i' % (k, x_k, kernel, omega, summ))\n",
    "        dataout[x] = (Decimal(1) / Decimal(N) * summ) % fn\n",
    "    return dataout"
   ]
  },
  {
   "cell_type": "code",
   "execution_count": 7,
   "metadata": {
    "collapsed": false
   },
   "outputs": [],
   "source": [
    "vectorIn = np.concatenate((np.repeat(100, 16), np.repeat(0, 16)))\n",
    "#vectorIn = np.concatenate(([0, 1], np.repeat(0, 30)))"
   ]
  },
  {
   "cell_type": "code",
   "execution_count": 8,
   "metadata": {
    "collapsed": false,
    "scrolled": false
   },
   "outputs": [
    {
     "name": "stdout",
     "output_type": "stream",
     "text": [
      "0.\t 100 \t -> \t 1600 \t -> \t 16484\n",
      "1.\t 100 \t -> \t 65337 \t -> \t 1328\n",
      "2.\t 100 \t -> \t 0 \t -> \t 588\n",
      "3.\t 100 \t -> \t 56146 \t -> \t 308\n",
      "4.\t 100 \t -> \t 0 \t -> \t 178\n",
      "5.\t 100 \t -> \t 31705 \t -> \t 113\n",
      "6.\t 100 \t -> \t 0 \t -> \t 81\n",
      "7.\t 100 \t -> \t 20640 \t -> \t 65\n",
      "8.\t 100 \t -> \t 0 \t -> \t 57\n",
      "9.\t 100 \t -> \t 20520 \t -> \t 53\n",
      "10.\t 100 \t -> \t 0 \t -> \t 51\n",
      "11.\t 100 \t -> \t 61759 \t -> \t 50\n",
      "12.\t 100 \t -> \t 0 \t -> \t 50\n",
      "13.\t 100 \t -> \t 51151 \t -> \t 50\n",
      "14.\t 100 \t -> \t 0 \t -> \t 50\n",
      "15.\t 100 \t -> \t 21979 \t -> \t 50\n",
      "16.\t 0 \t -> \t 0 \t -> \t 50\n",
      "17.\t 0 \t -> \t 43758 \t -> \t 50\n",
      "18.\t 0 \t -> \t 0 \t -> \t 50\n",
      "19.\t 0 \t -> \t 14586 \t -> \t 50\n",
      "20.\t 0 \t -> \t 0 \t -> \t 50\n",
      "21.\t 0 \t -> \t 3978 \t -> \t 50\n",
      "22.\t 0 \t -> \t 0 \t -> \t 50\n",
      "23.\t 0 \t -> \t 45217 \t -> \t 50\n",
      "24.\t 0 \t -> \t 0 \t -> \t 50\n",
      "25.\t 0 \t -> \t 45097 \t -> \t 50\n",
      "26.\t 0 \t -> \t 0 \t -> \t 50\n",
      "27.\t 0 \t -> \t 34032 \t -> \t 50\n",
      "28.\t 0 \t -> \t 0 \t -> \t 50\n",
      "29.\t 0 \t -> \t 9591 \t -> \t 50\n",
      "30.\t 0 \t -> \t 0 \t -> \t 50\n",
      "31.\t 0 \t -> \t 400 \t -> \t 50\n"
     ]
    }
   ],
   "source": [
    "dataOut = fnt(vectorIn, 4, 2)\n",
    "dataIn = fnt_revers(dataOut, 4, 2)\n",
    "for i in range(0, len(vectorIn)):\n",
    "    print('%i.\\t %i \\t -> \\t %i \\t -> \\t %i' % (i, vectorIn[i], dataOut[i], dataIn[i]))"
   ]
  },
  {
   "cell_type": "code",
   "execution_count": 9,
   "metadata": {
    "collapsed": false
   },
   "outputs": [
    {
     "name": "stdout",
     "output_type": "stream",
     "text": [
      "0.\t 100 \t -> \t 1600 \t -> \t 16484\n",
      "1.\t 100 \t -> \t 65337 \t -> \t 1328\n",
      "2.\t 100 \t -> \t 0 \t -> \t 588\n"
     ]
    }
   ],
   "source": [
    "dataOut = fnt(vectorIn, 4, 2)\n",
    "dataIn = fnt_revers(dataOut, 4, 2)\n",
    "for i in range(0, 3):\n",
    "    print('%i.\\t %i \\t -> \\t %i \\t -> \\t %i' % (i, vectorIn[i], dataOut[i], dataIn[i]))"
   ]
  },
  {
   "cell_type": "code",
   "execution_count": 10,
   "metadata": {
    "collapsed": false
   },
   "outputs": [
    {
     "data": {
      "text/plain": [
       "Decimal('0.3333333333333333333333333333333333333333333333333333333333333333333333333333333333333333333333333333333333333333333333333333333333333333333333333333333333333333333333333333333333333333333333333333333333333333333333333333333333333333333333333333333333333333333333333333333333333333333333333333333333333333333333333333333333333333333333333333333333333333333333333333333333333333333333333333333333333333333333333333333333333333333333333333333333333333333333333333333333333333333333333333333333333333333333333333333333333333333333333333333333333333333333333333333333333333333333333333333333333333333333333333333333333333333333333333333333333333333333333333333333333333333333333333333333333333333333333333333333333333333333333333333333333333333333333333333333333333333333333333333333333333333333333333333333333333333333333333333333333333333333333333333333333333333333333333333333333333333333333333333333333333333333333333333333333333333333333333333333333333333333333333333333333333333333333333333333333333333333333333333333333333333333333333333333333333333333333333333333333333333333333333333333333333333333333333333333333333333333333333333333333333333333333333333333333333333333333333333333333333333333333333333333333333333333333333333333333333333333333333333333333333333333333333333333333333333333333333333333333333333333333333333333333333333333333333333333333333333333333333333333333333333333333333333333333333333333333333333333333333333333333333333333333333333333333333333333333333333333333333333333333333333333333333333333333333333333333333333333333333333333333333333333333333333333333333333333333333333333333333333333333333333333333333333333333333333333333333333333333333333333333333333333333333333333333333333333333333333333333333333333333333333333333333333333333333333333333333333333333333333333333333333333333333333333333333333333333333333333333333333333333333333333333333333333333333333333333333333333333333333333333333333333333333333333333333333333333333333333333333333333333333333333333333333')"
      ]
     },
     "execution_count": 10,
     "metadata": {},
     "output_type": "execute_result"
    }
   ],
   "source": [
    "Decimal(1)/Decimal(3)"
   ]
  }
 ],
 "metadata": {
  "kernelspec": {
   "display_name": "Python 2",
   "language": "python",
   "name": "python2"
  },
  "language_info": {
   "codemirror_mode": {
    "name": "ipython",
    "version": 2
   },
   "file_extension": ".py",
   "mimetype": "text/x-python",
   "name": "python",
   "nbconvert_exporter": "python",
   "pygments_lexer": "ipython2",
   "version": "2.7.13"
  }
 },
 "nbformat": 4,
 "nbformat_minor": 2
}

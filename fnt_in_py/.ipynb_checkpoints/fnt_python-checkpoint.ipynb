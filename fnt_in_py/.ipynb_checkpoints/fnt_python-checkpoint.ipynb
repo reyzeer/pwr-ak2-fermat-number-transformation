{
 "cells": [
  {
   "cell_type": "code",
   "execution_count": 1,
   "metadata": {
    "collapsed": true
   },
   "outputs": [],
   "source": [
    "import numpy as np\n",
    "from decimal import *\n",
    "import math"
   ]
  },
  {
   "cell_type": "code",
   "execution_count": 2,
   "metadata": {
    "collapsed": true
   },
   "outputs": [],
   "source": [
    "newcontext = getcontext();\n",
    "newcontext.prec = 2000\n",
    "newcontext.Emin = -999999999999999999999999999999999999999999999999999\n",
    "newcontext.Emax = 999999999999999999999999999999999999999999999999999\n",
    "setcontext(newcontext)"
   ]
  },
  {
   "cell_type": "code",
   "execution_count": 3,
   "metadata": {
    "collapsed": false
   },
   "outputs": [
    {
     "data": {
      "text/plain": [
       "Context(prec=2000, rounding=ROUND_HALF_EVEN, Emin=-999999999999999999999999999999999999999999999999999, Emax=999999999999999999999999999999999999999999999999999, capitals=1, flags=[], traps=[DivisionByZero, InvalidOperation, Overflow])"
      ]
     },
     "execution_count": 3,
     "metadata": {},
     "output_type": "execute_result"
    }
   ],
   "source": [
    "getcontext()"
   ]
  },
  {
   "cell_type": "code",
   "execution_count": 4,
   "metadata": {
    "collapsed": true
   },
   "outputs": [],
   "source": [
    "def fermat_number(base):\n",
    "    return 2**2**base + 1"
   ]
  },
  {
   "cell_type": "code",
   "execution_count": 5,
   "metadata": {
    "collapsed": false
   },
   "outputs": [],
   "source": [
    "def fnt(datain, fermat_number_base, alpha):\n",
    "    fn = fermat_number(fermat_number_base)\n",
    "    N = len(datain)\n",
    "    dataout = np.empty([N])\n",
    "    for x in range(0, N):\n",
    "        summ = Decimal(0)\n",
    "        for k in range(0, N):\n",
    "            x_k = Decimal(datain[k])\n",
    "            kernel = Decimal(alpha)**(Decimal(x)*Decimal(k))\n",
    "            summ = summ + x_k * kernel\n",
    "        dataout[x] = summ % fn\n",
    "    return dataout"
   ]
  },
  {
   "cell_type": "code",
   "execution_count": 28,
   "metadata": {
    "collapsed": true
   },
   "outputs": [],
   "source": [
    "def fnt_revers(datain, fermat_number_base, alpha):\n",
    "    fn = fermat_number(fermat_number_base)\n",
    "    N = len(datain)\n",
    "    dataout = np.empty([N])\n",
    "    for x in range(0, N):\n",
    "        summ = Decimal(0)\n",
    "        for k in range(0, N):\n",
    "            x_k = Decimal(datain[k])\n",
    "            kernel = Decimal(alpha)**(-Decimal(x)*Decimal(k))\n",
    "            summ = summ + x_k * kernel\n",
    "            #print('x_k: %i kernel: %.20i summ: %i' % (x_k, kernel, summ))\n",
    "        dataout[x] = (Decimal(1) / Decimal(N) * summ) % fn\n",
    "    return dataout"
   ]
  },
  {
   "cell_type": "code",
   "execution_count": 20,
   "metadata": {
    "collapsed": false
   },
   "outputs": [],
   "source": [
    "#vectorIn = np.concatenate((np.repeat(100, 16), np.repeat(0, 16)))\n",
    "vectorIn = np.concatenate(([0, 1], np.repeat(0, 30)))"
   ]
  },
  {
   "cell_type": "code",
   "execution_count": 29,
   "metadata": {
    "collapsed": false
   },
   "outputs": [
    {
     "name": "stdout",
     "output_type": "stream",
     "text": [
      "0.\t 0 \t -> \t 1 \t -> \t 32768\n",
      "1.\t 1 \t -> \t 2 \t -> \t 0\n",
      "2.\t 0 \t -> \t 4 \t -> \t 0\n",
      "3.\t 0 \t -> \t 8 \t -> \t 0\n",
      "4.\t 0 \t -> \t 16 \t -> \t 0\n",
      "5.\t 0 \t -> \t 32 \t -> \t 0\n",
      "6.\t 0 \t -> \t 64 \t -> \t 0\n",
      "7.\t 0 \t -> \t 128 \t -> \t 0\n",
      "8.\t 0 \t -> \t 256 \t -> \t 0\n",
      "9.\t 0 \t -> \t 512 \t -> \t 0\n",
      "10.\t 0 \t -> \t 1024 \t -> \t 0\n",
      "11.\t 0 \t -> \t 2048 \t -> \t 0\n",
      "12.\t 0 \t -> \t 4096 \t -> \t 0\n",
      "13.\t 0 \t -> \t 8192 \t -> \t 0\n",
      "14.\t 0 \t -> \t 16384 \t -> \t 0\n",
      "15.\t 0 \t -> \t 32768 \t -> \t 0\n",
      "16.\t 0 \t -> \t 65536 \t -> \t 0\n",
      "17.\t 0 \t -> \t 65535 \t -> \t 0\n",
      "18.\t 0 \t -> \t 65533 \t -> \t 0\n",
      "19.\t 0 \t -> \t 65529 \t -> \t 0\n",
      "20.\t 0 \t -> \t 65521 \t -> \t 0\n",
      "21.\t 0 \t -> \t 65505 \t -> \t 0\n",
      "22.\t 0 \t -> \t 65473 \t -> \t 0\n",
      "23.\t 0 \t -> \t 65409 \t -> \t 0\n",
      "24.\t 0 \t -> \t 65281 \t -> \t 0\n",
      "25.\t 0 \t -> \t 65025 \t -> \t 0\n",
      "26.\t 0 \t -> \t 64513 \t -> \t 0\n",
      "27.\t 0 \t -> \t 63489 \t -> \t 0\n",
      "28.\t 0 \t -> \t 61441 \t -> \t 0\n",
      "29.\t 0 \t -> \t 57345 \t -> \t 0\n",
      "30.\t 0 \t -> \t 49153 \t -> \t 0\n",
      "31.\t 0 \t -> \t 32769 \t -> \t 0\n"
     ]
    }
   ],
   "source": [
    "dataOut = fnt(vectorIn, 4, 2)\n",
    "dataIn = fnt_revers(dataOut, 4, 2)\n",
    "for i in range(0, len(vectorIn)):\n",
    "    print('%i.\\t %i \\t -> \\t %i \\t -> \\t %i' % (i, vectorIn[i], dataOut[i], dataIn[i]))"
   ]
  },
  {
   "cell_type": "code",
   "execution_count": 9,
   "metadata": {
    "collapsed": false
   },
   "outputs": [
    {
     "name": "stdout",
     "output_type": "stream",
     "text": [
      "0.\t 100 \t -> \t 1600 \t -> \t 16484\n",
      "1.\t 100 \t -> \t 65337 \t -> \t 1328\n",
      "2.\t 100 \t -> \t 0 \t -> \t 588\n"
     ]
    }
   ],
   "source": [
    "dataOut = fnt(vectorIn, 4, 2)\n",
    "dataIn = fnt_revers(dataOut, 4, 2)\n",
    "for i in range(0, 3):\n",
    "    print('%i.\\t %i \\t -> \\t %i \\t -> \\t %i' % (i, vectorIn[i], dataOut[i], dataIn[i]))"
   ]
  }
 ],
 "metadata": {
  "kernelspec": {
   "display_name": "Python 2",
   "language": "python",
   "name": "python2"
  },
  "language_info": {
   "codemirror_mode": {
    "name": "ipython",
    "version": 2
   },
   "file_extension": ".py",
   "mimetype": "text/x-python",
   "name": "python",
   "nbconvert_exporter": "python",
   "pygments_lexer": "ipython2",
   "version": "2.7.13"
  }
 },
 "nbformat": 4,
 "nbformat_minor": 2
}

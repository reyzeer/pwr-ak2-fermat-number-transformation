{
 "cells": [
  {
   "cell_type": "code",
   "execution_count": 20,
   "metadata": {
    "collapsed": true
   },
   "outputs": [],
   "source": [
    "import numpy as np\n",
    "import math\n",
    "from decimal import *\n",
    "getcontext().prec = 2048\n",
    "getcontext().Emin=-999999999999999999\n",
    "getcontext().Emax=999999999999999999"
   ]
  },
  {
   "cell_type": "code",
   "execution_count": 51,
   "metadata": {},
   "outputs": [
    {
     "data": {
      "text/plain": [
       "Context(prec=2048, rounding=ROUND_HALF_EVEN, Emin=-999999999999999999, Emax=999999999999999999, capitals=1, clamp=0, flags=[Inexact, Rounded], traps=[InvalidOperation, DivisionByZero, Overflow])"
      ]
     },
     "execution_count": 51,
     "metadata": {},
     "output_type": "execute_result"
    }
   ],
   "source": [
    "getcontext()"
   ]
  },
  {
   "cell_type": "code",
   "execution_count": 13,
   "metadata": {
    "collapsed": true
   },
   "outputs": [],
   "source": [
    "def fermat_number(base):\n",
    "    fnum = 2**2**base + 1\n",
    "    return fnum"
   ]
  },
  {
   "cell_type": "code",
   "execution_count": 73,
   "metadata": {
    "collapsed": true
   },
   "outputs": [],
   "source": [
    "def fnt(datain, fermat_number_base, alpha):\n",
    "    fn = Decimal(fermat_number(fermat_number_base))\n",
    "    N = len(datain)\n",
    "    dataout = np.empty([N])\n",
    "    for x in range(1, N+1):\n",
    "        summ = Decimal(0)\n",
    "        for k in range(1, N+1):\n",
    "            x_k = datain[k-1]\n",
    "            kernel = Decimal(alpha)**(Decimal(x)*k)\n",
    "            summ += x_k * kernel\n",
    "            #print(\"x: %i k: %i x_k: %i kernel: %i summ: %i\" % (x, k, x_k, kernel, summ));\n",
    "        summ = summ % fn\n",
    "        dataout[x-1] = summ\n",
    "    return dataout"
   ]
  },
  {
   "cell_type": "code",
   "execution_count": 80,
   "metadata": {},
   "outputs": [],
   "source": [
    "def fnt_revers(datain, fermat_number_base, alpha):\n",
    "    fn = fermat_number(fermat_number_base)\n",
    "    N = len(datain)\n",
    "    dataout = np.empty([N])\n",
    "    for x in range(1, N+1):\n",
    "        summ = Decimal(0)\n",
    "        for k in range(1, N+1):\n",
    "            \n",
    "            x_k = Decimal(datain[k-1])\n",
    "            kernel = Decimal(alpha**(-x*k))\n",
    "            summ += x_k * kernel #**(-1)\n",
    "            #print(\"x: %i k: %i x_k: %i kernel: %f summ: %i\" % (x, k, x_k, kernel, summ));\n",
    "            #summ += datain[k-1] * pow(Decimal(alpha), (Decimal(-x)*k))\n",
    "        summ = summ / N\n",
    "        dataout[x-1] = summ % fn\n",
    "    return dataout"
   ]
  },
  {
   "cell_type": "code",
   "execution_count": 78,
   "metadata": {
    "collapsed": true
   },
   "outputs": [
    {
     "name": "stdout",
     "output_type": "stream",
     "text": [
      "0. \t 100 \t -> \t 65137\n",
      "1. \t 100 \t -> \t 0\n",
      "2. \t 100 \t -> \t 55946\n",
      "3. \t 100 \t -> \t 0\n",
      "4. \t 100 \t -> \t 31505\n",
      "5. \t 100 \t -> \t 0\n",
      "6. \t 100 \t -> \t 20440\n",
      "7. \t 100 \t -> \t 0\n",
      "8. \t 100 \t -> \t 20320\n",
      "9. \t 100 \t -> \t 0\n",
      "10. \t 100 \t -> \t 61559\n",
      "11. \t 100 \t -> \t 0\n",
      "12. \t 100 \t -> \t 50951\n",
      "13. \t 100 \t -> \t 0\n",
      "14. \t 100 \t -> \t 21779\n",
      "15. \t 100 \t -> \t 0\n",
      "16. \t 0 \t -> \t 43558\n",
      "17. \t 0 \t -> \t 0\n",
      "18. \t 0 \t -> \t 14386\n",
      "19. \t 0 \t -> \t 0\n",
      "20. \t 0 \t -> \t 3778\n",
      "21. \t 0 \t -> \t 0\n",
      "22. \t 0 \t -> \t 45017\n",
      "23. \t 0 \t -> \t 0\n",
      "24. \t 0 \t -> \t 44897\n",
      "25. \t 0 \t -> \t 0\n",
      "26. \t 0 \t -> \t 33832\n",
      "27. \t 0 \t -> \t 0\n",
      "28. \t 0 \t -> \t 9391\n",
      "29. \t 0 \t -> \t 0\n",
      "30. \t 0 \t -> \t 200\n",
      "31. \t 0 \t -> \t 1600\n"
     ]
    }
   ],
   "source": [
    "dataVector = np.concatenate((np.repeat(100, 16), np.repeat(0, 16)))\n",
    "vectorOut = fnt(dataVector, 4, 2)\n",
    "i=0\n",
    "for element in vectorOut:\n",
    "    print('%i. \\t %i \\t -> \\t %i' % (i, dataVector[i], element))\n",
    "    i+=1"
   ]
  },
  {
   "cell_type": "code",
   "execution_count": 81,
   "metadata": {},
   "outputs": [
    {
     "name": "stdout",
     "output_type": "stream",
     "text": [
      "0. \t 100 \t -> \t 65137 \t -> \t 1274\n",
      "1. \t 100 \t -> \t 0 \t -> \t 537\n",
      "2. \t 100 \t -> \t 55946 \t -> \t 257\n",
      "3. \t 100 \t -> \t 0 \t -> \t 127\n",
      "4. \t 100 \t -> \t 31505 \t -> \t 63\n",
      "5. \t 100 \t -> \t 0 \t -> \t 31\n",
      "6. \t 100 \t -> \t 20440 \t -> \t 15\n",
      "7. \t 100 \t -> \t 0 \t -> \t 7\n",
      "8. \t 100 \t -> \t 20320 \t -> \t 3\n",
      "9. \t 100 \t -> \t 0 \t -> \t 1\n",
      "10. \t 100 \t -> \t 61559 \t -> \t 0\n",
      "11. \t 100 \t -> \t 0 \t -> \t 0\n",
      "12. \t 100 \t -> \t 50951 \t -> \t 0\n",
      "13. \t 100 \t -> \t 0 \t -> \t 0\n",
      "14. \t 100 \t -> \t 21779 \t -> \t 0\n",
      "15. \t 100 \t -> \t 0 \t -> \t 0\n",
      "16. \t 0 \t -> \t 43558 \t -> \t 0\n",
      "17. \t 0 \t -> \t 0 \t -> \t 0\n",
      "18. \t 0 \t -> \t 14386 \t -> \t 0\n",
      "19. \t 0 \t -> \t 0 \t -> \t 0\n",
      "20. \t 0 \t -> \t 3778 \t -> \t 0\n",
      "21. \t 0 \t -> \t 0 \t -> \t 0\n",
      "22. \t 0 \t -> \t 45017 \t -> \t 0\n",
      "23. \t 0 \t -> \t 0 \t -> \t 0\n",
      "24. \t 0 \t -> \t 44897 \t -> \t 0\n",
      "25. \t 0 \t -> \t 0 \t -> \t 0\n",
      "26. \t 0 \t -> \t 33832 \t -> \t 0\n",
      "27. \t 0 \t -> \t 0 \t -> \t 0\n",
      "28. \t 0 \t -> \t 9391 \t -> \t 0\n",
      "29. \t 0 \t -> \t 0 \t -> \t 0\n",
      "30. \t 0 \t -> \t 200 \t -> \t 0\n",
      "31. \t 0 \t -> \t 1600 \t -> \t 0\n"
     ]
    }
   ],
   "source": [
    "vectorOut2 = fnt_revers(vectorOut, 4, 2)\n",
    "i=0\n",
    "for element in vectorOut2:\n",
    "    print('%i. \\t %i \\t -> \\t %i \\t -> \\t %i' % (i, dataVector[i], vectorOut[i], element))\n",
    "    i+=1"
   ]
  }
 ],
 "metadata": {
  "kernelspec": {
   "display_name": "Python 3",
   "language": "python",
   "name": "python3"
  },
  "language_info": {
   "codemirror_mode": {
    "name": "ipython",
    "version": 3
   },
   "file_extension": ".py",
   "mimetype": "text/x-python",
   "name": "python",
   "nbconvert_exporter": "python",
   "pygments_lexer": "ipython3",
   "version": "3.6.1"
  }
 },
 "nbformat": 4,
 "nbformat_minor": 2
}
